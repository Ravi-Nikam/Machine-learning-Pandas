{
 "cells": [
  {
   "cell_type": "code",
   "execution_count": 16,
   "metadata": {},
   "outputs": [
    {
     "data": {
      "text/plain": [
       "0    6\n",
       "1    6\n",
       "2    6\n",
       "3    6\n",
       "4    6\n",
       "Name: Magnitude, dtype: int64"
      ]
     },
     "execution_count": 16,
     "metadata": {},
     "output_type": "execute_result"
    }
   ],
   "source": [
    "# import pandas for reading csv file \n",
    "import pandas as pd \n",
    "  \n",
    "#reading csv file \n",
    "s = pd.read_csv(\"electronic.csv\", squeeze = True, usecols=['Magnitude']) \n",
    "  \n",
    "s.head()"
   ]
  },
  {
   "cell_type": "code",
   "execution_count": 19,
   "metadata": {},
   "outputs": [
    {
     "name": "stdout",
     "output_type": "stream",
     "text": [
      "16805\n",
      "70560\n",
      "4.198750371913121\n",
      "4.198750371913121\n",
      "2.750172288621874\n",
      "0\n",
      "using max function  6 0\n",
      "6.0\n",
      "0    6\n",
      "dtype: int64\n"
     ]
    }
   ],
   "source": [
    "# import pandas for reading csv file \n",
    "import pandas as pd \n",
    "  \n",
    "#using count function \n",
    "print(s.count()) \n",
    "  \n",
    "#using sum function \n",
    "print(s.sum()) \n",
    "  \n",
    "#using mean function \n",
    "print(s.mean()) \n",
    "  \n",
    "#calculatin average \n",
    "print(s.sum()/s.count()) \n",
    "  \n",
    "#using std function \n",
    "print(s.std()) \n",
    "  \n",
    "#using min function \n",
    "print(s.min()) \n",
    "  \n",
    "#using max function \n",
    "print(\"using max function \",s.max(),s.idxmax()) \n",
    "  \n",
    "#using median function \n",
    "print(s.median()) \n",
    "  \n",
    "#using mode function \n",
    "print(s.mode()) "
   ]
  },
  {
   "cell_type": "code",
   "execution_count": 13,
   "metadata": {},
   "outputs": [
    {
     "data": {
      "text/plain": [
       "0"
      ]
     },
     "execution_count": 13,
     "metadata": {},
     "output_type": "execute_result"
    }
   ],
   "source": [
    "# give max values index\n",
    "s.idxmax()"
   ]
  },
  {
   "cell_type": "code",
   "execution_count": 20,
   "metadata": {},
   "outputs": [
    {
     "data": {
      "text/plain": [
       "260"
      ]
     },
     "execution_count": 20,
     "metadata": {},
     "output_type": "execute_result"
    }
   ],
   "source": [
    "# give min values index\n",
    "s.idxmin()"
   ]
  },
  {
   "cell_type": "code",
   "execution_count": 24,
   "metadata": {},
   "outputs": [
    {
     "data": {
      "text/plain": [
       "260    0\n",
       "0      6\n",
       "Name: Magnitude, dtype: int64"
      ]
     },
     "execution_count": 24,
     "metadata": {},
     "output_type": "execute_result"
    }
   ],
   "source": [
    "# give index values\n",
    "s[[260,0]]"
   ]
  },
  {
   "cell_type": "code",
   "execution_count": 25,
   "metadata": {},
   "outputs": [
    {
     "data": {
      "text/plain": [
       "6"
      ]
     },
     "execution_count": 25,
     "metadata": {},
     "output_type": "execute_result"
    }
   ],
   "source": [
    "# directly get value of any function\n",
    "s[s.idxmax()]"
   ]
  },
  {
   "cell_type": "code",
   "execution_count": null,
   "metadata": {},
   "outputs": [],
   "source": []
  }
 ],
 "metadata": {
  "kernelspec": {
   "display_name": "Python 3",
   "language": "python",
   "name": "python3"
  },
  "language_info": {
   "codemirror_mode": {
    "name": "ipython",
    "version": 3
   },
   "file_extension": ".py",
   "mimetype": "text/x-python",
   "name": "python",
   "nbconvert_exporter": "python",
   "pygments_lexer": "ipython3",
   "version": "3.7.3"
  }
 },
 "nbformat": 4,
 "nbformat_minor": 4
}

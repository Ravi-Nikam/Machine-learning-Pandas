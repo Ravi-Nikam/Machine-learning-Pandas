{
 "cells": [
  {
   "cell_type": "code",
   "execution_count": 2,
   "metadata": {},
   "outputs": [],
   "source": [
    "# value counts\n",
    "\n",
    "import pandas as pd\n",
    "\n"
   ]
  },
  {
   "cell_type": "code",
   "execution_count": 3,
   "metadata": {},
   "outputs": [
    {
     "data": {
      "text/plain": [
       "0    1193.0\n",
       "1    1246.0\n",
       "2    1602.0\n",
       "3    2150.0\n",
       "4    2407.0\n",
       "Name: Value, dtype: float64"
      ]
     },
     "execution_count": 3,
     "metadata": {},
     "output_type": "execute_result"
    }
   ],
   "source": [
    "s=pd.read_csv('research.csv',usecols=['Value'],squeeze=True)\n",
    "s.head()"
   ]
  },
  {
   "cell_type": "code",
   "execution_count": 4,
   "metadata": {},
   "outputs": [],
   "source": [
    "def classify(number):\n",
    "    if number<600:\n",
    "        return \"ok\"\n",
    "    elif number>=300 and number<650:\n",
    "        return \"statictionry\"\n",
    "    else:\n",
    "        return \"invalid\""
   ]
  },
  {
   "cell_type": "code",
   "execution_count": 5,
   "metadata": {},
   "outputs": [
    {
     "data": {
      "text/plain": [
       "880              ok\n",
       "881              ok\n",
       "882              ok\n",
       "883              ok\n",
       "884              ok\n",
       "885              ok\n",
       "886              ok\n",
       "887         invalid\n",
       "888         invalid\n",
       "889         invalid\n",
       "890              ok\n",
       "891    statictionry\n",
       "892         invalid\n",
       "893         invalid\n",
       "894         invalid\n",
       "895         invalid\n",
       "896         invalid\n",
       "897         invalid\n",
       "898         invalid\n",
       "899         invalid\n",
       "Name: Value, dtype: object"
      ]
     },
     "execution_count": 5,
     "metadata": {},
     "output_type": "execute_result"
    }
   ],
   "source": [
    "# takes apply(fun,axis,row,result_type)\n",
    "# apply takes a function and applies it to all value of pandas series\n",
    "s.apply(classify).tail(20)"
   ]
  },
  {
   "cell_type": "code",
   "execution_count": null,
   "metadata": {},
   "outputs": [],
   "source": []
  },
  {
   "cell_type": "code",
   "execution_count": 40,
   "metadata": {},
   "outputs": [],
   "source": []
  },
  {
   "cell_type": "code",
   "execution_count": null,
   "metadata": {},
   "outputs": [],
   "source": []
  }
 ],
 "metadata": {
  "kernelspec": {
   "display_name": "Python 3",
   "language": "python",
   "name": "python3"
  },
  "language_info": {
   "codemirror_mode": {
    "name": "ipython",
    "version": 3
   },
   "file_extension": ".py",
   "mimetype": "text/x-python",
   "name": "python",
   "nbconvert_exporter": "python",
   "pygments_lexer": "ipython3",
   "version": "3.7.3"
  }
 },
 "nbformat": 4,
 "nbformat_minor": 4
}

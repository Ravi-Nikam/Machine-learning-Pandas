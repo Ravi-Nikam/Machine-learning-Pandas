{
 "cells": [
  {
   "cell_type": "code",
   "execution_count": 2,
   "metadata": {},
   "outputs": [
    {
     "data": {
      "text/plain": [
       "E Mail\n",
       "shawna.buck@gmail.com              12/12/1971\n",
       "nathaniel.burke@walmart.com        10/31/1993\n",
       "elisabeth.foster@gmail.com         11/26/1994\n",
       "briana.lancaster@yahoo.com         11/24/1975\n",
       "estella.potter@gmail.com            3/13/1995\n",
       "                                      ...    \n",
       "bonnie.baker@bp.com                  8/3/1985\n",
       "luke.turner@charter.net             2/12/1987\n",
       "eva.holman@hotmail.com              9/26/1957\n",
       "maritza.christian@microsoft.com     5/19/1987\n",
       "phyllis.dudley@yahoo.co.in          11/2/1957\n",
       "Name: Date of Birth, Length: 1000, dtype: object"
      ]
     },
     "execution_count": 2,
     "metadata": {},
     "output_type": "execute_result"
    }
   ],
   "source": [
    "# Extract values by index and give index to feild index_col = \"Email\" means email work as index\n",
    "\n",
    "import pandas as pd\n",
    "\n",
    "s=pd.read_csv('test.csv',index_col='E Mail',squeeze=True,usecols=['E Mail','Date of Birth'])\n",
    "s"
   ]
  },
  {
   "cell_type": "code",
   "execution_count": 3,
   "metadata": {},
   "outputs": [
    {
     "data": {
      "text/plain": [
       "'12/12/1971'"
      ]
     },
     "execution_count": 3,
     "metadata": {},
     "output_type": "execute_result"
    }
   ],
   "source": [
    "s[0]"
   ]
  },
  {
   "cell_type": "code",
   "execution_count": 4,
   "metadata": {},
   "outputs": [
    {
     "data": {
      "text/plain": [
       "E Mail\n",
       "elisabeth.foster@gmail.com    11/26/1994\n",
       "briana.lancaster@yahoo.com    11/24/1975\n",
       "shawna.buck@gmail.com         12/12/1971\n",
       "Name: Date of Birth, dtype: object"
      ]
     },
     "execution_count": 4,
     "metadata": {},
     "output_type": "execute_result"
    }
   ],
   "source": [
    "s[[2,3,0]]"
   ]
  },
  {
   "cell_type": "code",
   "execution_count": 5,
   "metadata": {},
   "outputs": [
    {
     "data": {
      "text/plain": [
       "E Mail\n",
       "shawna.buck@gmail.com          12/12/1971\n",
       "nathaniel.burke@walmart.com    10/31/1993\n",
       "elisabeth.foster@gmail.com     11/26/1994\n",
       "Name: Date of Birth, dtype: object"
      ]
     },
     "execution_count": 5,
     "metadata": {},
     "output_type": "execute_result"
    }
   ],
   "source": [
    "s['shawna.buck@gmail.com':'elisabeth.foster@gmail.com']"
   ]
  },
  {
   "cell_type": "code",
   "execution_count": 6,
   "metadata": {},
   "outputs": [
    {
     "data": {
      "text/plain": [
       "'12/12/1971'"
      ]
     },
     "execution_count": 6,
     "metadata": {},
     "output_type": "execute_result"
    }
   ],
   "source": [
    "s['shawna.buck@gmail.com']"
   ]
  },
  {
   "cell_type": "code",
   "execution_count": 7,
   "metadata": {},
   "outputs": [
    {
     "name": "stderr",
     "output_type": "stream",
     "text": [
      "c:\\users\\ravi nikam\\appdata\\local\\programs\\python\\python37-32\\lib\\site-packages\\pandas\\core\\series.py:1155: FutureWarning: \n",
      "Passing list-likes to .loc or [] with any missing label will raise\n",
      "KeyError in the future, you can use .reindex() as an alternative.\n",
      "\n",
      "See the documentation here:\n",
      "https://pandas.pydata.org/pandas-docs/stable/user_guide/indexing.html#deprecate-loc-reindex-listlike\n",
      "  return self.loc[key]\n"
     ]
    },
    {
     "data": {
      "text/plain": [
       "E Mail\n",
       "shawna.buck@gmail.com         12/12/1971\n",
       "elisabeth.foster@gmail.com    11/26/1994\n",
       "rv@123                               NaN\n",
       "Name: Date of Birth, dtype: object"
      ]
     },
     "execution_count": 7,
     "metadata": {},
     "output_type": "execute_result"
    }
   ],
   "source": [
    "s[['shawna.buck@gmail.com','elisabeth.foster@gmail.com','rv@123']]"
   ]
  }
 ],
 "metadata": {
  "kernelspec": {
   "display_name": "Python 3",
   "language": "python",
   "name": "python3"
  },
  "language_info": {
   "codemirror_mode": {
    "name": "ipython",
    "version": 3
   },
   "file_extension": ".py",
   "mimetype": "text/x-python",
   "name": "python",
   "nbconvert_exporter": "python",
   "pygments_lexer": "ipython3",
   "version": "3.7.3"
  }
 },
 "nbformat": 4,
 "nbformat_minor": 4
}

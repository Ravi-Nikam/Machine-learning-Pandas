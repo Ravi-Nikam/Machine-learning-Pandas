{
 "cells": [
  {
   "cell_type": "code",
   "execution_count": 55,
   "metadata": {},
   "outputs": [
    {
     "data": {
      "text/plain": [
       "100    114425\n",
       "837    114862\n",
       "828    116286\n",
       "322    116530\n",
       "371    117603\n",
       "Name: Emp ID, dtype: int64"
      ]
     },
     "execution_count": 55,
     "metadata": {},
     "output_type": "execute_result"
    }
   ],
   "source": [
    "# sort values\n",
    "\n",
    "import pandas as pd\n",
    "\n",
    "s=pd.read_csv('test.csv',usecols=['Emp ID'],squeeze=True)\n",
    "\n",
    "s.sort_values().head()"
   ]
  },
  {
   "cell_type": "code",
   "execution_count": 58,
   "metadata": {},
   "outputs": [
    {
     "data": {
      "text/plain": [
       "514    999475\n",
       "930    999219\n",
       "676    998638\n",
       "768    996768\n",
       "958    995863\n",
       "131    995242\n",
       "980    994907\n",
       "531    993792\n",
       "68     993675\n",
       "621    993099\n",
       "Name: Emp ID, dtype: int64"
      ]
     },
     "execution_count": 58,
     "metadata": {},
     "output_type": "execute_result"
    }
   ],
   "source": [
    "s.sort_values(ascending=False).head(10)"
   ]
  },
  {
   "cell_type": "code",
   "execution_count": 59,
   "metadata": {},
   "outputs": [
    {
     "data": {
      "text/plain": [
       "748    118882\n",
       "207    118236\n",
       "951    118109\n",
       "925    117980\n",
       "577    117956\n",
       "371    117603\n",
       "322    116530\n",
       "828    116286\n",
       "837    114862\n",
       "100    114425\n",
       "Name: Emp ID, dtype: int64"
      ]
     },
     "execution_count": 59,
     "metadata": {},
     "output_type": "execute_result"
    }
   ],
   "source": [
    "s.sort_values(ascending=False).tail(10)"
   ]
  },
  {
   "cell_type": "code",
   "execution_count": 67,
   "metadata": {},
   "outputs": [
    {
     "data": {
      "text/plain": [
       "[100    114425\n",
       " 837    114862\n",
       " 828    116286\n",
       " 322    116530\n",
       " 371    117603\n",
       "         ...  \n",
       " 958    995863\n",
       " 768    996768\n",
       " 676    998638\n",
       " 930    999219\n",
       " 514    999475\n",
       " Name: Emp ID, Length: 1000, dtype: int64]"
      ]
     },
     "execution_count": 67,
     "metadata": {},
     "output_type": "execute_result"
    }
   ],
   "source": [
    "s.sort_values(inplace=True,ascending=True,na_position='first')\n",
    "x=[]\n",
    "x.append(s)\n",
    "x"
   ]
  }
 ],
 "metadata": {
  "kernelspec": {
   "display_name": "Python 3",
   "language": "python",
   "name": "python3"
  },
  "language_info": {
   "codemirror_mode": {
    "name": "ipython",
    "version": 3
   },
   "file_extension": ".py",
   "mimetype": "text/x-python",
   "name": "python",
   "nbconvert_exporter": "python",
   "pygments_lexer": "ipython3",
   "version": "3.7.3"
  }
 },
 "nbformat": 4,
 "nbformat_minor": 4
}

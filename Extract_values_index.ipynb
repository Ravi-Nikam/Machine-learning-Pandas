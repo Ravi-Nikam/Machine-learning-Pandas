{
 "cells": [
  {
   "cell_type": "code",
   "execution_count": 4,
   "metadata": {},
   "outputs": [],
   "source": [
    "# extract values \n",
    "\n",
    "import pandas as pd\n",
    "\n",
    "s=pd.read_csv('test.csv',usecols=['E Mail'],squeeze=True)\n"
   ]
  },
  {
   "cell_type": "code",
   "execution_count": 7,
   "metadata": {},
   "outputs": [
    {
     "data": {
      "text/plain": [
       "10      bethany.cline@yahoo.ca\n",
       "100    doris.glenn@yahoo.co.uk\n",
       "200      kris.conner@gmail.com\n",
       "Name: E Mail, dtype: object"
      ]
     },
     "execution_count": 7,
     "metadata": {},
     "output_type": "execute_result"
    }
   ],
   "source": [
    "# Extract multiple value\n",
    "s[[10,100,200]]"
   ]
  },
  {
   "cell_type": "code",
   "execution_count": 9,
   "metadata": {},
   "outputs": [
    {
     "data": {
      "text/plain": [
       "'bethany.cline@yahoo.ca'"
      ]
     },
     "execution_count": 9,
     "metadata": {},
     "output_type": "execute_result"
    }
   ],
   "source": [
    "# Extract Single value\n",
    "s[10]"
   ]
  },
  {
   "cell_type": "code",
   "execution_count": 12,
   "metadata": {},
   "outputs": [
    {
     "data": {
      "text/plain": [
       "50               liz.frank@hotmail.com\n",
       "51         kendra.villarreal@gmail.com\n",
       "52    maryellen.mcfadden@hotmail.co.uk\n",
       "53               german.carney@aol.com\n",
       "54       micheal.shannon@earthlink.net\n",
       "55              carlo.albert@gmail.com\n",
       "56            bianca.langley@gmail.com\n",
       "57             elias.cabrera@yahoo.com\n",
       "58         alberta.chapman@comcast.net\n",
       "59                 erin.olsen@yahoo.ca\n",
       "60       frederic.stephenson@gmail.com\n",
       "Name: E Mail, dtype: object"
      ]
     },
     "execution_count": 12,
     "metadata": {},
     "output_type": "execute_result"
    }
   ],
   "source": [
    "# slice use\n",
    "\n",
    "s[50:61]"
   ]
  },
  {
   "cell_type": "code",
   "execution_count": 14,
   "metadata": {},
   "outputs": [
    {
     "data": {
      "text/plain": [
       "RangeIndex(start=0, stop=1000, step=1)"
      ]
     },
     "execution_count": 14,
     "metadata": {},
     "output_type": "execute_result"
    }
   ],
   "source": [
    "s.index"
   ]
  },
  {
   "cell_type": "code",
   "execution_count": 17,
   "metadata": {},
   "outputs": [
    {
     "data": {
      "text/plain": [
       "970    phil.montgomery@btinternet.com\n",
       "971    jonas.underwood@exxonmobil.com\n",
       "972          benita.mcgee@hotmail.com\n",
       "973       rochelle.guerrero@gmail.com\n",
       "974              terra.webb@gmail.com\n",
       "975         buford.zimmerman@yahoo.ca\n",
       "976     emanuel.nichols@hotmail.co.uk\n",
       "977             cheryl.french@aol.com\n",
       "978      theodore.dale@exxonmobil.com\n",
       "979      ginger.palmer@btinternet.com\n",
       "Name: E Mail, dtype: object"
      ]
     },
     "execution_count": 17,
     "metadata": {},
     "output_type": "execute_result"
    }
   ],
   "source": [
    "# nagtive slicing -30 means last 30 to last 20\n",
    "s[-30:-20]"
   ]
  }
 ],
 "metadata": {
  "kernelspec": {
   "display_name": "Python 3",
   "language": "python",
   "name": "python3"
  },
  "language_info": {
   "codemirror_mode": {
    "name": "ipython",
    "version": 3
   },
   "file_extension": ".py",
   "mimetype": "text/x-python",
   "name": "python",
   "nbconvert_exporter": "python",
   "pygments_lexer": "ipython3",
   "version": "3.7.3"
  }
 },
 "nbformat": 4,
 "nbformat_minor": 4
}

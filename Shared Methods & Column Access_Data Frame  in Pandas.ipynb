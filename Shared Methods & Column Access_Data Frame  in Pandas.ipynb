{
 "cells": [
  {
   "cell_type": "code",
   "execution_count": 36,
   "metadata": {},
   "outputs": [],
   "source": [
    "# Shared Methods & Column Access in Pandas\n",
    "import pandas as pd\n",
    "\n",
    "rev=pd.read_csv('reven.csv',index_col=['Date'],squeeze=False)"
   ]
  },
  {
   "cell_type": "code",
   "execution_count": 37,
   "metadata": {},
   "outputs": [
    {
     "data": {
      "text/plain": [
       "New York       5475\n",
       "Los Angeles    5134\n",
       "Miami          5641\n",
       "dtype: int64"
      ]
     },
     "execution_count": 37,
     "metadata": {},
     "output_type": "execute_result"
    }
   ],
   "source": [
    "# sum value column wise\n",
    "rev.sum()"
   ]
  },
  {
   "cell_type": "code",
   "execution_count": 38,
   "metadata": {},
   "outputs": [
    {
     "data": {
      "text/plain": [
       "New York       5475\n",
       "Los Angeles    5134\n",
       "Miami          5641\n",
       "dtype: int64"
      ]
     },
     "execution_count": 38,
     "metadata": {},
     "output_type": "execute_result"
    }
   ],
   "source": [
    "# other way of sum column wise\n",
    "rev.sum(\"index\")"
   ]
  },
  {
   "cell_type": "code",
   "execution_count": 39,
   "metadata": {},
   "outputs": [
    {
     "data": {
      "text/plain": [
       "Date\n",
       "1/1/2016    1606\n",
       "1/2/2016    2060\n",
       "1/3/2016     967\n",
       "1/4/2016    2519\n",
       "1/5/2016     438\n",
       "dtype: int64"
      ]
     },
     "execution_count": 39,
     "metadata": {},
     "output_type": "execute_result"
    }
   ],
   "source": [
    "# for getting sum row wise\n",
    "rev.sum(axis=1).head()"
   ]
  },
  {
   "cell_type": "code",
   "execution_count": 40,
   "metadata": {},
   "outputs": [
    {
     "data": {
      "text/plain": [
       "Date\n",
       "1/1/2016    1606\n",
       "1/2/2016    2060\n",
       "1/3/2016     967\n",
       "1/4/2016    2519\n",
       "1/5/2016     438\n",
       "dtype: int64"
      ]
     },
     "execution_count": 40,
     "metadata": {},
     "output_type": "execute_result"
    }
   ],
   "source": [
    "# other way of getting sum row wise\n",
    "rev.sum(\"columns\").head()"
   ]
  },
  {
   "cell_type": "code",
   "execution_count": 59,
   "metadata": {},
   "outputs": [
    {
     "data": {
      "text/plain": [
       "Date\n",
       "1/1/2016     499\n",
       "1/2/2016     534\n",
       "1/3/2016     933\n",
       "1/4/2016     885\n",
       "1/5/2016     253\n",
       "1/6/2016     497\n",
       "1/7/2016     115\n",
       "1/8/2016     886\n",
       "1/9/2016     823\n",
       "1/10/2016    216\n",
       "Name: Miami, dtype: int64"
      ]
     },
     "execution_count": 59,
     "metadata": {},
     "output_type": "execute_result"
    }
   ],
   "source": [
    "# for  Extracting particular column but its not work if thare is an space between column Name\n",
    "\n",
    "rev.Miami"
   ]
  },
  {
   "cell_type": "code",
   "execution_count": 68,
   "metadata": {},
   "outputs": [
    {
     "data": {
      "text/plain": [
       "Date\n",
       "1/1/2016     985\n",
       "1/2/2016     738\n",
       "1/3/2016      14\n",
       "1/4/2016     730\n",
       "1/5/2016     114\n",
       "1/6/2016     936\n",
       "1/7/2016     123\n",
       "1/8/2016     935\n",
       "1/9/2016     846\n",
       "1/10/2016     54\n",
       "Name: New York, dtype: int64"
      ]
     },
     "execution_count": 68,
     "metadata": {},
     "output_type": "execute_result"
    }
   ],
   "source": [
    "# if thare is an space in column name then we use list to extrac single or multiple column\n",
    "rev['New York']"
   ]
  },
  {
   "cell_type": "code",
   "execution_count": 74,
   "metadata": {},
   "outputs": [
    {
     "data": {
      "text/html": [
       "<div>\n",
       "<style scoped>\n",
       "    .dataframe tbody tr th:only-of-type {\n",
       "        vertical-align: middle;\n",
       "    }\n",
       "\n",
       "    .dataframe tbody tr th {\n",
       "        vertical-align: top;\n",
       "    }\n",
       "\n",
       "    .dataframe thead th {\n",
       "        text-align: right;\n",
       "    }\n",
       "</style>\n",
       "<table border=\"1\" class=\"dataframe\">\n",
       "  <thead>\n",
       "    <tr style=\"text-align: right;\">\n",
       "      <th></th>\n",
       "      <th>New York</th>\n",
       "      <th>Miami</th>\n",
       "    </tr>\n",
       "    <tr>\n",
       "      <th>Date</th>\n",
       "      <th></th>\n",
       "      <th></th>\n",
       "    </tr>\n",
       "  </thead>\n",
       "  <tbody>\n",
       "    <tr>\n",
       "      <th>1/1/2016</th>\n",
       "      <td>985</td>\n",
       "      <td>499</td>\n",
       "    </tr>\n",
       "    <tr>\n",
       "      <th>1/2/2016</th>\n",
       "      <td>738</td>\n",
       "      <td>534</td>\n",
       "    </tr>\n",
       "    <tr>\n",
       "      <th>1/3/2016</th>\n",
       "      <td>14</td>\n",
       "      <td>933</td>\n",
       "    </tr>\n",
       "    <tr>\n",
       "      <th>1/4/2016</th>\n",
       "      <td>730</td>\n",
       "      <td>885</td>\n",
       "    </tr>\n",
       "    <tr>\n",
       "      <th>1/5/2016</th>\n",
       "      <td>114</td>\n",
       "      <td>253</td>\n",
       "    </tr>\n",
       "    <tr>\n",
       "      <th>1/6/2016</th>\n",
       "      <td>936</td>\n",
       "      <td>497</td>\n",
       "    </tr>\n",
       "    <tr>\n",
       "      <th>1/7/2016</th>\n",
       "      <td>123</td>\n",
       "      <td>115</td>\n",
       "    </tr>\n",
       "    <tr>\n",
       "      <th>1/8/2016</th>\n",
       "      <td>935</td>\n",
       "      <td>886</td>\n",
       "    </tr>\n",
       "    <tr>\n",
       "      <th>1/9/2016</th>\n",
       "      <td>846</td>\n",
       "      <td>823</td>\n",
       "    </tr>\n",
       "    <tr>\n",
       "      <th>1/10/2016</th>\n",
       "      <td>54</td>\n",
       "      <td>216</td>\n",
       "    </tr>\n",
       "  </tbody>\n",
       "</table>\n",
       "</div>"
      ],
      "text/plain": [
       "           New York  Miami\n",
       "Date                      \n",
       "1/1/2016        985    499\n",
       "1/2/2016        738    534\n",
       "1/3/2016         14    933\n",
       "1/4/2016        730    885\n",
       "1/5/2016        114    253\n",
       "1/6/2016        936    497\n",
       "1/7/2016        123    115\n",
       "1/8/2016        935    886\n",
       "1/9/2016        846    823\n",
       "1/10/2016        54    216"
      ]
     },
     "execution_count": 74,
     "metadata": {},
     "output_type": "execute_result"
    }
   ],
   "source": [
    "rev[['New York','Miami']]\n",
    "    # or best way is\n",
    "select = ['New York','Miami']\n",
    "rev[select]"
   ]
  }
 ],
 "metadata": {
  "kernelspec": {
   "display_name": "Python 3",
   "language": "python",
   "name": "python3"
  },
  "language_info": {
   "codemirror_mode": {
    "name": "ipython",
    "version": 3
   },
   "file_extension": ".py",
   "mimetype": "text/x-python",
   "name": "python",
   "nbconvert_exporter": "python",
   "pygments_lexer": "ipython3",
   "version": "3.7.3"
  }
 },
 "nbformat": 4,
 "nbformat_minor": 4
}

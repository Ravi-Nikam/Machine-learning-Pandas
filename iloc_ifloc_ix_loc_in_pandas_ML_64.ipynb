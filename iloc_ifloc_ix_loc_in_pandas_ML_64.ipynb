{
 "cells": [
  {
   "cell_type": "code",
   "execution_count": 10,
   "metadata": {},
   "outputs": [
    {
     "data": {
      "text/html": [
       "<div>\n",
       "<style scoped>\n",
       "    .dataframe tbody tr th:only-of-type {\n",
       "        vertical-align: middle;\n",
       "    }\n",
       "\n",
       "    .dataframe tbody tr th {\n",
       "        vertical-align: top;\n",
       "    }\n",
       "\n",
       "    .dataframe thead th {\n",
       "        text-align: right;\n",
       "    }\n",
       "</style>\n",
       "<table border=\"1\" class=\"dataframe\">\n",
       "  <thead>\n",
       "    <tr style=\"text-align: right;\">\n",
       "      <th></th>\n",
       "      <th>Year</th>\n",
       "      <th>Actor</th>\n",
       "      <th>Director</th>\n",
       "      <th>Box Office</th>\n",
       "      <th>Budget</th>\n",
       "      <th>Bond Actor Salary</th>\n",
       "    </tr>\n",
       "    <tr>\n",
       "      <th>Film</th>\n",
       "      <th></th>\n",
       "      <th></th>\n",
       "      <th></th>\n",
       "      <th></th>\n",
       "      <th></th>\n",
       "      <th></th>\n",
       "    </tr>\n",
       "  </thead>\n",
       "  <tbody>\n",
       "    <tr>\n",
       "      <th>A View to a Kill</th>\n",
       "      <td>1985</td>\n",
       "      <td>Roger Moore</td>\n",
       "      <td>John Glen</td>\n",
       "      <td>275.2</td>\n",
       "      <td>54.5</td>\n",
       "      <td>9.1</td>\n",
       "    </tr>\n",
       "    <tr>\n",
       "      <th>Casino Royale</th>\n",
       "      <td>2006</td>\n",
       "      <td>Daniel Craig</td>\n",
       "      <td>Martin Campbell</td>\n",
       "      <td>581.5</td>\n",
       "      <td>145.3</td>\n",
       "      <td>3.3</td>\n",
       "    </tr>\n",
       "    <tr>\n",
       "      <th>Casino Royale</th>\n",
       "      <td>1967</td>\n",
       "      <td>David Niven</td>\n",
       "      <td>Ken Hughes</td>\n",
       "      <td>315.0</td>\n",
       "      <td>85.0</td>\n",
       "      <td>0.0</td>\n",
       "    </tr>\n",
       "    <tr>\n",
       "      <th>Diamonds Are Forever</th>\n",
       "      <td>1971</td>\n",
       "      <td>Sean Connery</td>\n",
       "      <td>Guy Hamilton</td>\n",
       "      <td>442.5</td>\n",
       "      <td>34.7</td>\n",
       "      <td>5.8</td>\n",
       "    </tr>\n",
       "    <tr>\n",
       "      <th>Die Another Day</th>\n",
       "      <td>2002</td>\n",
       "      <td>Pierce Brosnan</td>\n",
       "      <td>Lee Tamahori</td>\n",
       "      <td>465.4</td>\n",
       "      <td>154.2</td>\n",
       "      <td>17.9</td>\n",
       "    </tr>\n",
       "  </tbody>\n",
       "</table>\n",
       "</div>"
      ],
      "text/plain": [
       "                      Year           Actor         Director  Box Office  \\\n",
       "Film                                                                      \n",
       "A View to a Kill      1985     Roger Moore        John Glen       275.2   \n",
       "Casino Royale         2006    Daniel Craig  Martin Campbell       581.5   \n",
       "Casino Royale         1967     David Niven       Ken Hughes       315.0   \n",
       "Diamonds Are Forever  1971    Sean Connery     Guy Hamilton       442.5   \n",
       "Die Another Day       2002  Pierce Brosnan     Lee Tamahori       465.4   \n",
       "\n",
       "                      Budget  Bond Actor Salary  \n",
       "Film                                             \n",
       "A View to a Kill        54.5                9.1  \n",
       "Casino Royale          145.3                3.3  \n",
       "Casino Royale           85.0                0.0  \n",
       "Diamonds Are Forever    34.7                5.8  \n",
       "Die Another Day        154.2               17.9  "
      ]
     },
     "execution_count": 10,
     "metadata": {},
     "output_type": "execute_result"
    }
   ],
   "source": [
    "# iloc , ifloc, ix in pandas\n",
    "import pandas as pd\n",
    "bond=pd.read_csv('jamesbond.csv')\n",
    "bond.set_index(\"Film\",inplace=True)\n",
    "bond.sort_index(inplace=True)\n",
    "bond[\"Bond Actor Salary\"].fillna(0,inplace=True)\n",
    "bond.head()"
   ]
  },
  {
   "cell_type": "code",
   "execution_count": 16,
   "metadata": {},
   "outputs": [
    {
     "data": {
      "text/plain": [
       "Actor                Pierce Brosnan\n",
       "Box Office                    465.4\n",
       "Bond Actor Salary              17.9\n",
       "Name: Die Another Day, dtype: object"
      ]
     },
     "execution_count": 16,
     "metadata": {},
     "output_type": "execute_result"
    }
   ],
   "source": [
    "# accessing index throw column values like Die Another Day throw its Actor name\n",
    "bond.loc[\"Die Another Day\",\"Actor\"]\n",
    "# accessing multiple values of thare column using split \"Actor\":\"Budget\" values\n",
    "bond.loc[\"Die Another Day\",\"Actor\":\"Budget\"]\n",
    "# accessing specific column value \n",
    "bond.loc[\"Die Another Day\",[\"Actor\",\"Box Office\",\"Bond Actor Salary\"]]"
   ]
  },
  {
   "cell_type": "code",
   "execution_count": 26,
   "metadata": {},
   "outputs": [
    {
     "data": {
      "text/plain": [
       "Year                     2006\n",
       "Director      Martin Campbell\n",
       "Box Office              581.5\n",
       "Name: Casino Royale, dtype: object"
      ]
     },
     "execution_count": 26,
     "metadata": {},
     "output_type": "execute_result"
    }
   ],
   "source": [
    "# accessing index value(0,1,2) throw column values like Die Another Day throw its Actor name\n",
    "bond.iloc[1]\n",
    "# accessing multiple index values of thare column using split 2:5 values\n",
    "bond.iloc[1,2:5]\n",
    "# accessing specific index values of column\n",
    "bond.iloc[1,[0,2,3]]"
   ]
  },
  {
   "cell_type": "code",
   "execution_count": 29,
   "metadata": {},
   "outputs": [
    {
     "name": "stderr",
     "output_type": "stream",
     "text": [
      "c:\\users\\ravi nikam\\appdata\\local\\programs\\python\\python37-32\\lib\\site-packages\\ipykernel_launcher.py:2: FutureWarning: \n",
      ".ix is deprecated. Please use\n",
      ".loc for label based indexing or\n",
      ".iloc for positional indexing\n",
      "\n",
      "See the documentation here:\n",
      "http://pandas.pydata.org/pandas-docs/stable/user_guide/indexing.html#ix-indexer-is-deprecated\n",
      "  \n",
      "c:\\users\\ravi nikam\\appdata\\local\\programs\\python\\python37-32\\lib\\site-packages\\ipykernel_launcher.py:3: FutureWarning: \n",
      ".ix is deprecated. Please use\n",
      ".loc for label based indexing or\n",
      ".iloc for positional indexing\n",
      "\n",
      "See the documentation here:\n",
      "http://pandas.pydata.org/pandas-docs/stable/user_guide/indexing.html#ix-indexer-is-deprecated\n",
      "  This is separate from the ipykernel package so we can avoid doing imports until\n"
     ]
    },
    {
     "data": {
      "text/plain": [
       "Actor            Daniel Craig\n",
       "Director      Martin Campbell\n",
       "Box Office              581.5\n",
       "Budget                  145.3\n",
       "Name: Casino Royale, dtype: object"
      ]
     },
     "execution_count": 29,
     "metadata": {},
     "output_type": "execute_result"
    }
   ],
   "source": [
    "# accessing value throw column index nameabs like Die Another Day throw its Actor name\n",
    "bond.ix[\"Diamonds Are Forever\",1:3]\n",
    "# both way we can acsess in  ix[]\n",
    "bond.ix[1,\"Actor\":\"Budget\"]"
   ]
  },
  {
   "cell_type": "code",
   "execution_count": null,
   "metadata": {},
   "outputs": [],
   "source": []
  }
 ],
 "metadata": {
  "kernelspec": {
   "display_name": "Python 3",
   "language": "python",
   "name": "python3"
  },
  "language_info": {
   "codemirror_mode": {
    "name": "ipython",
    "version": 3
   },
   "file_extension": ".py",
   "mimetype": "text/x-python",
   "name": "python",
   "nbconvert_exporter": "python",
   "pygments_lexer": "ipython3",
   "version": "3.7.3"
  }
 },
 "nbformat": 4,
 "nbformat_minor": 4
}
